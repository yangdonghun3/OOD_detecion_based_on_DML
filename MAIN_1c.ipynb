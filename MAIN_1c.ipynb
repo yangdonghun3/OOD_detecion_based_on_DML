{
 "cells": [
  {
   "cell_type": "code",
   "execution_count": null,
   "metadata": {},
   "outputs": [],
   "source": [
    "from utils.OOD_Baseline_and_ODIN import Baseline_and_ODIN\n",
    "from utils.OOD_Mahalanobis import Mahalanobis_Generate, Mahalanobis_Regression\n",
    "from torchvision.datasets import FashionMNIST, MNIST\n",
    "from torchvision import transforms\n",
    "from torchvision.datasets import FashionMNIST, MNIST\n",
    "from torchvision import transforms\n",
    "import torch\n",
    "import warnings\n",
    "torch.cuda.set_device(1)\n",
    "warnings.filterwarnings(action='ignore')"
   ]
  },
  {
   "cell_type": "code",
   "execution_count": null,
   "metadata": {},
   "outputs": [],
   "source": [
    "mean, std = 0.28604059698879553, 0.35302424451492237\n",
    "FashionMNIST_train_dataset = FashionMNIST('../data/FashionMNIST', train=True, download=True,\n",
    "                             transform=transforms.Compose([\n",
    "                                 transforms.ToTensor(),\n",
    "                                 transforms.Normalize((mean,), (std,))\n",
    "                             ]))\n",
    "FashionMNIST_test_dataset = FashionMNIST('../data/FashionMNIST', train=False, download=True,\n",
    "                            transform=transforms.Compose([\n",
    "                                transforms.ToTensor(),\n",
    "                                transforms.Normalize((mean,), (std,))\n",
    "                            ]))\n",
    "MNIST_test_dataset = MNIST('../data/MNIST', train=False, download=True,\n",
    "                            transform=transforms.Compose([\n",
    "                                transforms.ToTensor(),\n",
    "                                transforms.Normalize((mean,), (std,))\n",
    "                            ]))"
   ]
  },
  {
   "cell_type": "code",
   "execution_count": null,
   "metadata": {
    "scrolled": true
   },
   "outputs": [],
   "source": [
    "'''\n",
    "    Baseline ad ODIN\n",
    "        - model : resnet\n",
    "        - in_data : fashionmnist\n",
    "        - out_data : mnist\n",
    "'''\n",
    "#Baseline_and_ODIN(pretrained_model,in_test_dataset,out_test_dataset)\n",
    "Baseline_and_ODIN('baseline_resnet_fashionmnist',FashionMNIST_test_dataset,MNIST_test_dataset)"
   ]
  },
  {
   "cell_type": "code",
   "execution_count": null,
   "metadata": {
    "scrolled": true
   },
   "outputs": [],
   "source": [
    "'''\n",
    "    Original_Mahalanobis & siam_Mahalanobis & triplet_Mahalanobis\n",
    "        - model : resnet\n",
    "        - in_data : fashionmnist\n",
    "        - out_data : mnist\n",
    "'''\n",
    "for model in ['baseline_resnet_fashionmnist', 'siam_resnet_fashionmnist', 'triplet_resnet_fashionmnist']:        \n",
    "    Mahalanobis_Generate(model,\\\n",
    "                            FashionMNIST_train_dataset,\\\n",
    "                            FashionMNIST_test_dataset,\\\n",
    "                            MNIST_test_dataset)    \n",
    "    Mahalanobis_Regression(model,\\\n",
    "                              FashionMNIST_test_dataset,\\\n",
    "                              MNIST_test_dataset)"
   ]
  },
  {
   "cell_type": "code",
   "execution_count": null,
   "metadata": {},
   "outputs": [],
   "source": [
    "mean, std = 0.1307, 0.3081\n",
    "MNIST_train_dataset = MNIST('../data/MNIST', train=True, download=True,\n",
    "                             transform=transforms.Compose([\n",
    "                                 transforms.ToTensor(),\n",
    "                                 transforms.Normalize((mean,), (std,))\n",
    "                             ]))\n",
    "MNIST_test_dataset = MNIST('../data/MNIST', train=False, download=True,\n",
    "                            transform=transforms.Compose([\n",
    "                                transforms.ToTensor(),\n",
    "                                transforms.Normalize((mean,), (std,))\n",
    "                            ]))\n",
    "FashionMNIST_test_dataset = FashionMNIST('../data/FashionMNIST', train=False, download=True,\n",
    "                            transform=transforms.Compose([\n",
    "                                transforms.ToTensor(),\n",
    "                                transforms.Normalize((mean,), (std,))\n",
    "                            ]))"
   ]
  },
  {
   "cell_type": "code",
   "execution_count": null,
   "metadata": {
    "scrolled": true
   },
   "outputs": [],
   "source": [
    "'''\n",
    "    Baseline ad ODIN\n",
    "        - model : resnet\n",
    "        - in_data : mnist\n",
    "        - out_data : fashionmnist\n",
    "'''\n",
    "#Baseline_and_ODIN_1C(pretrained_model,in_test_dataset,out_test_dataset)\n",
    "Baseline_and_ODIN('baseline_resnet_mnist',MNIST_test_dataset,FashionMNIST_test_dataset)"
   ]
  },
  {
   "cell_type": "code",
   "execution_count": null,
   "metadata": {},
   "outputs": [],
   "source": [
    "'''\n",
    "    Original_Mahalanobis & siam_Mahalanobis & triplet_Mahalanobis\n",
    "        - model : resnet\n",
    "        - in_data : nmnist\n",
    "        - out_data : fashiomnist\n",
    "'''\n",
    "for model in ['baseline_resnet_mnist', 'siam_resnet_mnist', 'triplet_resnet_mnist'] :    \n",
    "    Mahalanobis_Generate(model,\\\n",
    "                            MNIST_train_dataset,\\\n",
    "                            MNIST_test_dataset,\\\n",
    "                            FashionMNIST_test_dataset)\n",
    "    Mahalanobis_Regression(model,\\\n",
    "                              MNIST_test_dataset,\\\n",
    "                              FashionMNIST_test_dataset)"
   ]
  }
 ],
 "metadata": {
  "kernelspec": {
   "display_name": "ood_ysk",
   "language": "python",
   "name": "ood_ysk"
  },
  "language_info": {
   "codemirror_mode": {
    "name": "ipython",
    "version": 3
   },
   "file_extension": ".py",
   "mimetype": "text/x-python",
   "name": "python",
   "nbconvert_exporter": "python",
   "pygments_lexer": "ipython3",
   "version": "3.7.7"
  }
 },
 "nbformat": 4,
 "nbformat_minor": 4
}
